{
 "cells": [
  {
   "cell_type": "code",
   "execution_count": 1,
   "metadata": {},
   "outputs": [],
   "source": [
    "import numpy as np\n",
    "import pandas as pd\n",
    "import requests\n",
    "from bs4 import BeautifulSoup\n",
    "from fake_useragent import UserAgent\n",
    "from tqdm import tqdm\n",
    "from matplotlib import pyplot as plt\n",
    "from IPython.display import display"
   ]
  },
  {
   "cell_type": "code",
   "execution_count": 2,
   "metadata": {},
   "outputs": [],
   "source": [
    "import datetime\n",
    "from dateutil.parser import parse\n",
    "ua = UserAgent()\n",
    "import os\n",
    "import glob"
   ]
  },
  {
   "cell_type": "code",
   "execution_count": 3,
   "metadata": {},
   "outputs": [],
   "source": [
    "dir_ = r\"C:\\Users\\Samsung\\Desktop\\수업\\2020_1\\AI\\final\\4538_7213_bundle_archive\\Data\\Stocks\"\n",
    "dir_list = glob.glob(r\"C:\\Users\\Samsung\\Desktop\\수업\\2020_1\\AI\\final\\4538_7213_bundle_archive\\Data\\Stocks\\*.txt\")"
   ]
  },
  {
   "cell_type": "code",
   "execution_count": 4,
   "metadata": {},
   "outputs": [],
   "source": [
    "li_2 = []\n",
    "for i in dir_list:\n",
    "    li_2.append(i.replace(dir_,\"\").replace(\".txt\",\"\").replace(\"\\\\\",\"\").replace(\".us\",\"\").upper())"
   ]
  },
  {
   "cell_type": "code",
   "execution_count": 5,
   "metadata": {},
   "outputs": [],
   "source": [
    "nasdaq = pd.read_csv(r\"C:\\Users\\Samsung\\Desktop\\수업\\2020_1\\AI\\final\\NASDAQ.csv\")\n",
    "nyse = pd.read_csv(r\"C:\\Users\\Samsung\\Desktop\\수업\\2020_1\\AI\\final\\NYSE.csv\")\n",
    "amex = pd.read_csv(r\"C:\\Users\\Samsung\\Desktop\\수업\\2020_1\\AI\\final\\AMEX.csv\")"
   ]
  },
  {
   "cell_type": "code",
   "execution_count": 6,
   "metadata": {},
   "outputs": [],
   "source": [
    "nas_2 = nasdaq.loc[:,[\"Symbol\",\"Sector\",\"industry\"]]\n",
    "nys_2 = nyse.loc[:,[\"Symbol\",\"Sector\",\"industry\"]]\n",
    "amex_2 = amex.loc[:,[\"Symbol\",\"Sector\",\"industry\"]]\n",
    "indu_all = pd.concat([nas_2,nys_2,amex_2])"
   ]
  },
  {
   "cell_type": "code",
   "execution_count": 7,
   "metadata": {},
   "outputs": [
    {
     "name": "stderr",
     "output_type": "stream",
     "text": [
      "100%|█████████████████████████████████████████████████████████████████████████████| 7195/7195 [00:21<00:00, 339.41it/s]\n"
     ]
    }
   ],
   "source": [
    "dic_ = {}\n",
    "for i in tqdm(li_2):\n",
    "    try:\n",
    "        indu_ = indu_all[indu_all[\"Symbol\"]==i][\"industry\"].reset_index(drop=True)[0]\n",
    "        sec_ = indu_all[indu_all[\"Symbol\"]==i][\"Sector\"].reset_index(drop=True)[0]\n",
    "        list_ = [indu_,sec_]\n",
    "        dic_[i] = list_\n",
    "    except:\n",
    "        pass"
   ]
  },
  {
   "cell_type": "code",
   "execution_count": 8,
   "metadata": {},
   "outputs": [],
   "source": [
    "indexs = []\n",
    "indus = []\n",
    "sector = []\n",
    "for key,value in dic_.items():\n",
    "    indexs.append(key.lower())\n",
    "    indus.append(value[0])\n",
    "    sector.append(value[1])"
   ]
  },
  {
   "cell_type": "code",
   "execution_count": 9,
   "metadata": {},
   "outputs": [
    {
     "data": {
      "text/html": [
       "<div>\n",
       "<style scoped>\n",
       "    .dataframe tbody tr th:only-of-type {\n",
       "        vertical-align: middle;\n",
       "    }\n",
       "\n",
       "    .dataframe tbody tr th {\n",
       "        vertical-align: top;\n",
       "    }\n",
       "\n",
       "    .dataframe thead th {\n",
       "        text-align: right;\n",
       "    }\n",
       "</style>\n",
       "<table border=\"1\" class=\"dataframe\">\n",
       "  <thead>\n",
       "    <tr style=\"text-align: right;\">\n",
       "      <th></th>\n",
       "      <th>0</th>\n",
       "      <th>1</th>\n",
       "      <th>2</th>\n",
       "    </tr>\n",
       "  </thead>\n",
       "  <tbody>\n",
       "    <tr>\n",
       "      <th>0</th>\n",
       "      <td>Biotechnology: Laboratory Analytical Instruments</td>\n",
       "      <td>Capital Goods</td>\n",
       "      <td>a</td>\n",
       "    </tr>\n",
       "    <tr>\n",
       "      <th>1</th>\n",
       "      <td>Aluminum</td>\n",
       "      <td>Basic Industries</td>\n",
       "      <td>aa</td>\n",
       "    </tr>\n",
       "    <tr>\n",
       "      <th>2</th>\n",
       "      <td>Air Freight/Delivery Services</td>\n",
       "      <td>Transportation</td>\n",
       "      <td>aal</td>\n",
       "    </tr>\n",
       "    <tr>\n",
       "      <th>3</th>\n",
       "      <td>Real Estate</td>\n",
       "      <td>Finance</td>\n",
       "      <td>aamc</td>\n",
       "    </tr>\n",
       "    <tr>\n",
       "      <th>4</th>\n",
       "      <td>Life Insurance</td>\n",
       "      <td>Finance</td>\n",
       "      <td>aame</td>\n",
       "    </tr>\n",
       "  </tbody>\n",
       "</table>\n",
       "</div>"
      ],
      "text/plain": [
       "                                                  0                 1     2\n",
       "0  Biotechnology: Laboratory Analytical Instruments     Capital Goods     a\n",
       "1                                          Aluminum  Basic Industries    aa\n",
       "2                     Air Freight/Delivery Services    Transportation   aal\n",
       "3                                       Real Estate           Finance  aamc\n",
       "4                                    Life Insurance           Finance  aame"
      ]
     },
     "execution_count": 9,
     "metadata": {},
     "output_type": "execute_result"
    }
   ],
   "source": [
    "indu_df = pd.DataFrame(data=[indus,sector,indexs]).T\n",
    "indu_df.head()"
   ]
  },
  {
   "cell_type": "code",
   "execution_count": 10,
   "metadata": {},
   "outputs": [],
   "source": [
    "sample = pd.read_csv(r\"C:\\Users\\Samsung\\Desktop\\수업\\2020_1\\AI\\final\\4538_7213_bundle_archive\\Data\\Stocks\\a.us.txt\")\n",
    "sample[\"Date\"] = pd.to_datetime(sample[\"Date\"].map(lambda x: parse(x).strftime(\"%Y\")))\n",
    "date_list=list(sample[\"Date\"].value_counts().keys())"
   ]
  },
  {
   "cell_type": "code",
   "execution_count": 11,
   "metadata": {
    "scrolled": true
   },
   "outputs": [
    {
     "data": {
      "text/html": [
       "<div>\n",
       "<style scoped>\n",
       "    .dataframe tbody tr th:only-of-type {\n",
       "        vertical-align: middle;\n",
       "    }\n",
       "\n",
       "    .dataframe tbody tr th {\n",
       "        vertical-align: top;\n",
       "    }\n",
       "\n",
       "    .dataframe thead th {\n",
       "        text-align: right;\n",
       "    }\n",
       "</style>\n",
       "<table border=\"1\" class=\"dataframe\">\n",
       "  <thead>\n",
       "    <tr style=\"text-align: right;\">\n",
       "      <th></th>\n",
       "      <th>Date</th>\n",
       "      <th>Open</th>\n",
       "      <th>High</th>\n",
       "      <th>Low</th>\n",
       "      <th>Close</th>\n",
       "      <th>Volume</th>\n",
       "      <th>OpenInt</th>\n",
       "    </tr>\n",
       "  </thead>\n",
       "  <tbody>\n",
       "    <tr>\n",
       "      <th>0</th>\n",
       "      <td>1999-01-01</td>\n",
       "      <td>30.713</td>\n",
       "      <td>33.754</td>\n",
       "      <td>27.002</td>\n",
       "      <td>29.702</td>\n",
       "      <td>66277506</td>\n",
       "      <td>0</td>\n",
       "    </tr>\n",
       "    <tr>\n",
       "      <th>1</th>\n",
       "      <td>1999-01-01</td>\n",
       "      <td>28.986</td>\n",
       "      <td>29.027</td>\n",
       "      <td>26.872</td>\n",
       "      <td>27.257</td>\n",
       "      <td>16142920</td>\n",
       "      <td>0</td>\n",
       "    </tr>\n",
       "    <tr>\n",
       "      <th>2</th>\n",
       "      <td>1999-01-01</td>\n",
       "      <td>27.886</td>\n",
       "      <td>29.702</td>\n",
       "      <td>27.044</td>\n",
       "      <td>29.702</td>\n",
       "      <td>6970266</td>\n",
       "      <td>0</td>\n",
       "    </tr>\n",
       "    <tr>\n",
       "      <th>3</th>\n",
       "      <td>1999-01-01</td>\n",
       "      <td>28.688</td>\n",
       "      <td>29.446</td>\n",
       "      <td>27.002</td>\n",
       "      <td>27.002</td>\n",
       "      <td>6332082</td>\n",
       "      <td>0</td>\n",
       "    </tr>\n",
       "    <tr>\n",
       "      <th>4</th>\n",
       "      <td>1999-01-01</td>\n",
       "      <td>27.083</td>\n",
       "      <td>28.309</td>\n",
       "      <td>27.002</td>\n",
       "      <td>27.717</td>\n",
       "      <td>5132147</td>\n",
       "      <td>0</td>\n",
       "    </tr>\n",
       "    <tr>\n",
       "      <th>...</th>\n",
       "      <td>...</td>\n",
       "      <td>...</td>\n",
       "      <td>...</td>\n",
       "      <td>...</td>\n",
       "      <td>...</td>\n",
       "      <td>...</td>\n",
       "      <td>...</td>\n",
       "    </tr>\n",
       "    <tr>\n",
       "      <th>4516</th>\n",
       "      <td>2017-01-01</td>\n",
       "      <td>68.220</td>\n",
       "      <td>68.450</td>\n",
       "      <td>68.220</td>\n",
       "      <td>68.220</td>\n",
       "      <td>995731</td>\n",
       "      <td>0</td>\n",
       "    </tr>\n",
       "    <tr>\n",
       "      <th>4517</th>\n",
       "      <td>2017-01-01</td>\n",
       "      <td>68.320</td>\n",
       "      <td>68.640</td>\n",
       "      <td>68.040</td>\n",
       "      <td>68.250</td>\n",
       "      <td>966466</td>\n",
       "      <td>0</td>\n",
       "    </tr>\n",
       "    <tr>\n",
       "      <th>4518</th>\n",
       "      <td>2017-01-01</td>\n",
       "      <td>68.100</td>\n",
       "      <td>68.330</td>\n",
       "      <td>67.771</td>\n",
       "      <td>68.110</td>\n",
       "      <td>972616</td>\n",
       "      <td>0</td>\n",
       "    </tr>\n",
       "    <tr>\n",
       "      <th>4519</th>\n",
       "      <td>2017-01-01</td>\n",
       "      <td>67.920</td>\n",
       "      <td>67.980</td>\n",
       "      <td>66.910</td>\n",
       "      <td>67.470</td>\n",
       "      <td>1673083</td>\n",
       "      <td>0</td>\n",
       "    </tr>\n",
       "    <tr>\n",
       "      <th>4520</th>\n",
       "      <td>2017-01-01</td>\n",
       "      <td>67.350</td>\n",
       "      <td>67.580</td>\n",
       "      <td>66.700</td>\n",
       "      <td>66.810</td>\n",
       "      <td>1704549</td>\n",
       "      <td>0</td>\n",
       "    </tr>\n",
       "  </tbody>\n",
       "</table>\n",
       "<p>4521 rows × 7 columns</p>\n",
       "</div>"
      ],
      "text/plain": [
       "           Date    Open    High     Low   Close    Volume  OpenInt\n",
       "0    1999-01-01  30.713  33.754  27.002  29.702  66277506        0\n",
       "1    1999-01-01  28.986  29.027  26.872  27.257  16142920        0\n",
       "2    1999-01-01  27.886  29.702  27.044  29.702   6970266        0\n",
       "3    1999-01-01  28.688  29.446  27.002  27.002   6332082        0\n",
       "4    1999-01-01  27.083  28.309  27.002  27.717   5132147        0\n",
       "...         ...     ...     ...     ...     ...       ...      ...\n",
       "4516 2017-01-01  68.220  68.450  68.220  68.220    995731        0\n",
       "4517 2017-01-01  68.320  68.640  68.040  68.250    966466        0\n",
       "4518 2017-01-01  68.100  68.330  67.771  68.110    972616        0\n",
       "4519 2017-01-01  67.920  67.980  66.910  67.470   1673083        0\n",
       "4520 2017-01-01  67.350  67.580  66.700  66.810   1704549        0\n",
       "\n",
       "[4521 rows x 7 columns]"
      ]
     },
     "execution_count": 11,
     "metadata": {},
     "output_type": "execute_result"
    }
   ],
   "source": [
    "sample"
   ]
  },
  {
   "cell_type": "code",
   "execution_count": 12,
   "metadata": {},
   "outputs": [],
   "source": [
    "def make_graph_volume_all(Co,indu_df):\n",
    "    code = Co\n",
    "    sector = indu_df[indu_df[2]==code][1].reset_index()[1][0]\n",
    "    df = pd.read_csv(r\"C:\\Users\\Samsung\\Desktop\\수업\\2020_1\\AI\\final\\4538_7213_bundle_archive\\Data\\Stocks\\{}.us.txt\".format(code))\n",
    "    df[\"Date\"] = pd.to_datetime(df[\"Date\"].map(lambda x: parse(x).strftime(\"%Y\")))\n",
    "    df[\"Volume\"].plot(figsize = (20,10))\n",
    "    plt.savefig(r\"C:\\Users\\Samsung\\Desktop\\수업\\2020_1\\AI\\final\\4538_7213_bundle_archive\\Data\\img\\volume_all\\{}_{}.png\".format(sector,code))\n",
    "    plt.close(\"all\")\n",
    "    plt.figure()"
   ]
  },
  {
   "cell_type": "code",
   "execution_count": null,
   "metadata": {},
   "outputs": [
    {
     "name": "stderr",
     "output_type": "stream",
     "text": [
      "  1%|▌                                                                               | 34/4683 [00:17<34:24,  2.25it/s]"
     ]
    },
    {
     "name": "stdout",
     "output_type": "stream",
     "text": [
      "accp\n"
     ]
    },
    {
     "name": "stderr",
     "output_type": "stream",
     "text": [
      "  5%|███▌                                                                           | 214/4683 [01:31<26:49,  2.78it/s]"
     ]
    },
    {
     "name": "stdout",
     "output_type": "stream",
     "text": [
      "amrh\n",
      "amrhw\n"
     ]
    },
    {
     "name": "stderr",
     "output_type": "stream",
     "text": [
      "  9%|███████▍                                                                       | 441/4683 [02:59<28:48,  2.45it/s]"
     ]
    },
    {
     "name": "stdout",
     "output_type": "stream",
     "text": [
      "bbrx\n"
     ]
    },
    {
     "name": "stderr",
     "output_type": "stream",
     "text": [
      " 12%|█████████▊                                                                     | 584/4683 [03:57<28:23,  2.41it/s]"
     ]
    },
    {
     "name": "stdout",
     "output_type": "stream",
     "text": [
      "boxl\n"
     ]
    },
    {
     "name": "stderr",
     "output_type": "stream",
     "text": [
      " 14%|███████████                                                                    | 653/4683 [04:30<26:44,  2.51it/s]"
     ]
    }
   ],
   "source": [
    "for c in tqdm(indu_df[2]):\n",
    "    try:\n",
    "        make_graph_volume_all(c,indu_df)\n",
    "    except:\n",
    "        print(c)"
   ]
  },
  {
   "cell_type": "code",
   "execution_count": null,
   "metadata": {},
   "outputs": [],
   "source": []
  },
  {
   "cell_type": "code",
   "execution_count": null,
   "metadata": {},
   "outputs": [],
   "source": []
  },
  {
   "cell_type": "code",
   "execution_count": null,
   "metadata": {},
   "outputs": [],
   "source": []
  },
  {
   "cell_type": "code",
   "execution_count": null,
   "metadata": {},
   "outputs": [],
   "source": []
  },
  {
   "cell_type": "code",
   "execution_count": null,
   "metadata": {},
   "outputs": [],
   "source": []
  }
 ],
 "metadata": {
  "kernelspec": {
   "display_name": "Python 3",
   "language": "python",
   "name": "python3"
  },
  "language_info": {
   "codemirror_mode": {
    "name": "ipython",
    "version": 3
   },
   "file_extension": ".py",
   "mimetype": "text/x-python",
   "name": "python",
   "nbconvert_exporter": "python",
   "pygments_lexer": "ipython3",
   "version": "3.7.6"
  }
 },
 "nbformat": 4,
 "nbformat_minor": 4
}
