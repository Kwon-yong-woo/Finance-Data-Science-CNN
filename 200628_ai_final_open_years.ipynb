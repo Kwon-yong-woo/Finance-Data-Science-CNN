{
 "cells": [
  {
   "cell_type": "code",
   "execution_count": 2,
   "metadata": {},
   "outputs": [],
   "source": [
    "import numpy as np\n",
    "import pandas as pd\n",
    "import requests\n",
    "from bs4 import BeautifulSoup\n",
    "from fake_useragent import UserAgent\n",
    "from tqdm import tqdm\n",
    "from matplotlib import pyplot as plt\n",
    "from IPython.display import display"
   ]
  },
  {
   "cell_type": "code",
   "execution_count": 3,
   "metadata": {},
   "outputs": [],
   "source": [
    "import datetime\n",
    "from dateutil.parser import parse\n",
    "ua = UserAgent()\n",
    "import os\n",
    "import glob"
   ]
  },
  {
   "cell_type": "code",
   "execution_count": 4,
   "metadata": {},
   "outputs": [],
   "source": [
    "dir_ = r\"C:\\Users\\Samsung\\Desktop\\수업\\2020_1\\AI\\final\\4538_7213_bundle_archive\\Data\\Stocks\"\n",
    "dir_list = glob.glob(r\"C:\\Users\\Samsung\\Desktop\\수업\\2020_1\\AI\\final\\4538_7213_bundle_archive\\Data\\Stocks\\*.txt\")"
   ]
  },
  {
   "cell_type": "code",
   "execution_count": 5,
   "metadata": {},
   "outputs": [],
   "source": [
    "li_2 = []\n",
    "for i in dir_list:\n",
    "    li_2.append(i.replace(dir_,\"\").replace(\".txt\",\"\").replace(\"\\\\\",\"\").replace(\".us\",\"\").upper())"
   ]
  },
  {
   "cell_type": "code",
   "execution_count": 6,
   "metadata": {},
   "outputs": [],
   "source": [
    "nasdaq = pd.read_csv(r\"C:\\Users\\Samsung\\Desktop\\수업\\2020_1\\AI\\final\\NASDAQ.csv\")\n",
    "nyse = pd.read_csv(r\"C:\\Users\\Samsung\\Desktop\\수업\\2020_1\\AI\\final\\NYSE.csv\")\n",
    "amex = pd.read_csv(r\"C:\\Users\\Samsung\\Desktop\\수업\\2020_1\\AI\\final\\AMEX.csv\")"
   ]
  },
  {
   "cell_type": "code",
   "execution_count": 7,
   "metadata": {},
   "outputs": [],
   "source": [
    "nas_2 = nasdaq.loc[:,[\"Symbol\",\"Sector\",\"industry\"]]\n",
    "nys_2 = nyse.loc[:,[\"Symbol\",\"Sector\",\"industry\"]]\n",
    "amex_2 = amex.loc[:,[\"Symbol\",\"Sector\",\"industry\"]]\n",
    "indu_all = pd.concat([nas_2,nys_2,amex_2])"
   ]
  },
  {
   "cell_type": "code",
   "execution_count": 8,
   "metadata": {},
   "outputs": [
    {
     "name": "stderr",
     "output_type": "stream",
     "text": [
      "100%|█████████████████████████████████████████████████████████████████████████████| 7195/7195 [00:11<00:00, 631.46it/s]\n"
     ]
    }
   ],
   "source": [
    "dic_ = {}\n",
    "for i in tqdm(li_2):\n",
    "    try:\n",
    "        indu_ = indu_all[indu_all[\"Symbol\"]==i][\"industry\"].reset_index(drop=True)[0]\n",
    "        sec_ = indu_all[indu_all[\"Symbol\"]==i][\"Sector\"].reset_index(drop=True)[0]\n",
    "        list_ = [indu_,sec_]\n",
    "        dic_[i] = list_\n",
    "    except:\n",
    "        pass"
   ]
  },
  {
   "cell_type": "code",
   "execution_count": 9,
   "metadata": {},
   "outputs": [],
   "source": [
    "indexs = []\n",
    "indus = []\n",
    "sector = []\n",
    "for key,value in dic_.items():\n",
    "    indexs.append(key.lower())\n",
    "    indus.append(value[0])\n",
    "    sector.append(value[1])"
   ]
  },
  {
   "cell_type": "code",
   "execution_count": 10,
   "metadata": {},
   "outputs": [
    {
     "data": {
      "text/html": [
       "<div>\n",
       "<style scoped>\n",
       "    .dataframe tbody tr th:only-of-type {\n",
       "        vertical-align: middle;\n",
       "    }\n",
       "\n",
       "    .dataframe tbody tr th {\n",
       "        vertical-align: top;\n",
       "    }\n",
       "\n",
       "    .dataframe thead th {\n",
       "        text-align: right;\n",
       "    }\n",
       "</style>\n",
       "<table border=\"1\" class=\"dataframe\">\n",
       "  <thead>\n",
       "    <tr style=\"text-align: right;\">\n",
       "      <th></th>\n",
       "      <th>0</th>\n",
       "      <th>1</th>\n",
       "      <th>2</th>\n",
       "    </tr>\n",
       "  </thead>\n",
       "  <tbody>\n",
       "    <tr>\n",
       "      <th>0</th>\n",
       "      <td>Biotechnology: Laboratory Analytical Instruments</td>\n",
       "      <td>Capital Goods</td>\n",
       "      <td>a</td>\n",
       "    </tr>\n",
       "    <tr>\n",
       "      <th>1</th>\n",
       "      <td>Aluminum</td>\n",
       "      <td>Basic Industries</td>\n",
       "      <td>aa</td>\n",
       "    </tr>\n",
       "    <tr>\n",
       "      <th>2</th>\n",
       "      <td>Air Freight/Delivery Services</td>\n",
       "      <td>Transportation</td>\n",
       "      <td>aal</td>\n",
       "    </tr>\n",
       "    <tr>\n",
       "      <th>3</th>\n",
       "      <td>Real Estate</td>\n",
       "      <td>Finance</td>\n",
       "      <td>aamc</td>\n",
       "    </tr>\n",
       "    <tr>\n",
       "      <th>4</th>\n",
       "      <td>Life Insurance</td>\n",
       "      <td>Finance</td>\n",
       "      <td>aame</td>\n",
       "    </tr>\n",
       "  </tbody>\n",
       "</table>\n",
       "</div>"
      ],
      "text/plain": [
       "                                                  0                 1     2\n",
       "0  Biotechnology: Laboratory Analytical Instruments     Capital Goods     a\n",
       "1                                          Aluminum  Basic Industries    aa\n",
       "2                     Air Freight/Delivery Services    Transportation   aal\n",
       "3                                       Real Estate           Finance  aamc\n",
       "4                                    Life Insurance           Finance  aame"
      ]
     },
     "execution_count": 10,
     "metadata": {},
     "output_type": "execute_result"
    }
   ],
   "source": [
    "indu_df = pd.DataFrame(data=[indus,sector,indexs]).T\n",
    "indu_df.head()"
   ]
  },
  {
   "cell_type": "code",
   "execution_count": 11,
   "metadata": {},
   "outputs": [],
   "source": [
    "sample = pd.read_csv(r\"C:\\Users\\Samsung\\Desktop\\수업\\2020_1\\AI\\final\\4538_7213_bundle_archive\\Data\\Stocks\\a.us.txt\")\n",
    "sample[\"Date\"] = pd.to_datetime(sample[\"Date\"].map(lambda x: parse(x).strftime(\"%Y\")))\n",
    "date_list=list(sample[\"Date\"].value_counts().keys())"
   ]
  },
  {
   "cell_type": "code",
   "execution_count": 12,
   "metadata": {},
   "outputs": [],
   "source": [
    "def make_graph_open_all(Co,indu_df):\n",
    "    code = Co\n",
    "    sector = indu_df[indu_df[2]==code][1].reset_index()[1][0]\n",
    "    df = pd.read_csv(r\"C:\\Users\\Samsung\\Desktop\\수업\\2020_1\\AI\\final\\4538_7213_bundle_archive\\Data\\Stocks\\{}.us.txt\".format(code))\n",
    "    df[\"Date\"] = pd.to_datetime(df[\"Date\"].map(lambda x: parse(x).strftime(\"%Y\")))\n",
    "    df[\"Open\"].plot(figsize = (20,10))\n",
    "    plt.savefig(r\"C:\\Users\\Samsung\\Desktop\\수업\\2020_1\\AI\\final\\4538_7213_bundle_archive\\Data\\img\\open_all\\{}_{}.png\".format(sector,code))"
   ]
  },
  {
   "cell_type": "code",
   "execution_count": 13,
   "metadata": {},
   "outputs": [
    {
     "data": {
      "text/plain": [
       "2008-01-01    253\n",
       "2016-01-01    252\n",
       "2003-01-01    252\n",
       "2013-01-01    252\n",
       "2014-01-01    252\n",
       "2009-01-01    252\n",
       "2015-01-01    252\n",
       "2010-01-01    252\n",
       "2005-01-01    252\n",
       "2004-01-01    252\n",
       "2011-01-01    252\n",
       "2006-01-01    251\n",
       "2007-01-01    251\n",
       "2000-01-01    251\n",
       "2012-01-01    250\n",
       "2002-01-01    249\n",
       "2001-01-01    248\n",
       "2017-01-01    218\n",
       "1999-01-01     30\n",
       "Name: Date, dtype: int64"
      ]
     },
     "execution_count": 13,
     "metadata": {},
     "output_type": "execute_result"
    }
   ],
   "source": [
    "sample[\"Date\"].value_counts()"
   ]
  },
  {
   "cell_type": "code",
   "execution_count": 14,
   "metadata": {},
   "outputs": [],
   "source": [
    "def make_graph_open_years(Co,indu_df):\n",
    "    code = Co\n",
    "    sector = indu_df[indu_df[2]==code][1].reset_index()[1][0]\n",
    "    df = pd.read_csv(r\"C:\\Users\\Samsung\\Desktop\\수업\\2020_1\\AI\\final\\4538_7213_bundle_archive\\Data\\Stocks\\{}.us.txt\".format(code))\n",
    "    df[\"Date\"] = pd.to_datetime(df[\"Date\"].map(lambda x: parse(x).strftime(\"%Y\")))\n",
    "    for year in date_list:\n",
    "        df_2 = df[df[\"Date\"]==str(year)].reset_index()\n",
    "        df_2[\"Open\"].plot(figsize = (20,10))\n",
    "        save_year = year.year\n",
    "        plt.savefig(r\"C:\\Users\\Samsung\\Desktop\\수업\\2020_1\\AI\\final\\4538_7213_bundle_archive\\Data\\img\\open_years\\{}_{}_{}.png\".format(sector,code,save_year))\n",
    "        plt.close(\"all\")\n",
    "        plt.figure()\n",
    "\n",
    "    \n"
   ]
  },
  {
   "cell_type": "code",
   "execution_count": null,
   "metadata": {
    "scrolled": true
   },
   "outputs": [
    {
     "name": "stderr",
     "output_type": "stream",
     "text": [
      "  1%|▌                                                                             | 34/4683 [01:57<4:37:59,  3.59s/it]"
     ]
    },
    {
     "name": "stdout",
     "output_type": "stream",
     "text": [
      "accp\n"
     ]
    },
    {
     "name": "stderr",
     "output_type": "stream",
     "text": [
      "  2%|█▋                                                                           | 105/4683 [06:35<5:49:05,  4.58s/it]"
     ]
    }
   ],
   "source": [
    "for c in tqdm(indu_df[2]):\n",
    "    try:\n",
    "        make_graph_open_years(c,indu_df)\n",
    "    except:\n",
    "        print(c)"
   ]
  },
  {
   "cell_type": "code",
   "execution_count": null,
   "metadata": {},
   "outputs": [],
   "source": []
  }
 ],
 "metadata": {
  "kernelspec": {
   "display_name": "Python 3",
   "language": "python",
   "name": "python3"
  },
  "language_info": {
   "codemirror_mode": {
    "name": "ipython",
    "version": 3
   },
   "file_extension": ".py",
   "mimetype": "text/x-python",
   "name": "python",
   "nbconvert_exporter": "python",
   "pygments_lexer": "ipython3",
   "version": "3.7.6"
  }
 },
 "nbformat": 4,
 "nbformat_minor": 4
}
